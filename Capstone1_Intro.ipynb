{
 "cells": [
  {
   "cell_type": "markdown",
   "metadata": {},
   "source": [
    "# Capstone Project - The Battle of Neighborhoods PART 1-1\n",
    "##### IBM DATA SCIENCE PROFESSIONAL CERTIFICATE - # 9 Applied Data Science Capstone - WEEK 4 | COURSERA\n",
    "##### *Jiahe Yu*"
   ]
  },
  {
   "cell_type": "markdown",
   "metadata": {},
   "source": [
    "### **INTRODUCTION** - Description of the problem and discussion of the background"
   ]
  },
  {
   "cell_type": "markdown",
   "metadata": {},
   "source": [
    "***Is Kichijoji the Only Place to Live?*** (Japanese: 吉祥寺だけが住みたい街ですか?; Romaji: Kichijoji dake ga Sumitai Machi Desu ka?), a Japanese TV series adapted from a manga by Hirochi Maki, tells how the Shigeta twins from an apartment rental agency in Kichijoji - the most sought-after neighborhood in Tokyo - show their customers some great under-the-radar neighborhoods other than Kichijoji in Tokyo.\n",
    "\n",
    "The shigeta twins can always meet the needs of the clients because the twins are extremely familiar with the neighborhoods in Tokyo and they stand in the customers' shoes. What if an apartment rental agency without the Shigeta twins wants to make recommendations as good as they did? A machine learning approach is to segement and cluster the neighborhoods in Tokyo based on their features, so that it can help apartment rental agencies - our target audience - to make smart recommendations at high proficiency and at low cost.\n",
    "\n",
    "This project applies K-means clustering on the neighborhoods in Tokyo and the results will help the apartment rental agencies in Tokyo identify the neighborhoods that match the needs of customers in an efficient and economical way. "
   ]
  }
 ],
 "metadata": {
  "kernelspec": {
   "display_name": "Python 3",
   "language": "python",
   "name": "python3"
  },
  "language_info": {
   "codemirror_mode": {
    "name": "ipython",
    "version": 3
   },
   "file_extension": ".py",
   "mimetype": "text/x-python",
   "name": "python",
   "nbconvert_exporter": "python",
   "pygments_lexer": "ipython3",
   "version": "3.6.6"
  }
 },
 "nbformat": 4,
 "nbformat_minor": 2
}
