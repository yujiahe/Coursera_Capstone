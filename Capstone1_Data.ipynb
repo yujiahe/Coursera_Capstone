{
 "cells": [
  {
   "cell_type": "markdown",
   "metadata": {},
   "source": [
    "# Capstone Project - The Battle of Neighborhoods PART 1-2\n",
    "##### IBM DATA SCIENCE PROFESSIONAL CERTIFICATE - # 9 Applied Data Science Capstone - WEEK 4 | COURSERA\n",
    "##### *Jiahe Yu*"
   ]
  },
  {
   "cell_type": "markdown",
   "metadata": {},
   "source": [
    "### **DATA** - Description of the data and how it will be used to solve the problem"
   ]
  },
  {
   "cell_type": "markdown",
   "metadata": {},
   "source": [
    "Tokyo neighborhood data and Foursquare location data will be used together to explore and cluster the neighborhoods in Tokyo.\n",
    "\n",
    "Tokyo neighborhood data can be accessed from either of the two websites: *http://japanzipcodes.blogspot.com/2013/07/the-complete-zip-codes-of-tokyo-japan.html* or *https://jpn.postcodebase.com/zh-hant/region2/tokyo%E6%9D%B1%E4%BA%AC%E9%83%BD*. The first web page lists out zip codes of all neighborhoods in Tokyo. The second page lists out names of all sub-regions in Tokyo with hyperlinks. In each hyperlink there are zip codes of neighborhoods in that particular sub-region. The web pages will be scraped and the data will be wrangled, cleaned, and read into a pandas dataframe.\n",
    "\n",
    "After building the dataframe combining postcodes, neighborhoods, and boroughs/sub-regions, I will obtain the latitude and longitude coordinates using the geocoders package for each neighborhood in order to utilize the Foursquare location data.\n",
    "\n",
    "I obtained Foursquare credentials by setting up an account on Foursquare Developer API. Having both the coordinates of the neighborhoods and the Foursquare credentials enables me to access Foursquare location data. Foursquare location data offers comprehensive and accurate information about venues of given locations, for examples, restaurants, entertainment, hotels, stores, and others. The massive dataset of location data built by Foursquare also powers third-party apps, including Evernote, Uber, Flickr and Jawbone.\n",
    "\n",
    "I will explore the neighborhoods and conduct cluster analysis by leveraging the Foursquare location data in combination with Tokyo neighborhood data. Visualizations and recommendations based on results of the cluster analysis will be made to help the apartment rental agencies in Tokyo identify the neighborhoods that match the needs of customers."
   ]
  }
 ],
 "metadata": {
  "kernelspec": {
   "display_name": "Python 3",
   "language": "python",
   "name": "python3"
  },
  "language_info": {
   "codemirror_mode": {
    "name": "ipython",
    "version": 3
   },
   "file_extension": ".py",
   "mimetype": "text/x-python",
   "name": "python",
   "nbconvert_exporter": "python",
   "pygments_lexer": "ipython3",
   "version": "3.6.6"
  }
 },
 "nbformat": 4,
 "nbformat_minor": 2
}
